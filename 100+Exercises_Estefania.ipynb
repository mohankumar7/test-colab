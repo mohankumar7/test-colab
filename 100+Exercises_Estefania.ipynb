{
  "nbformat": 4,
  "nbformat_minor": 0,
  "metadata": {
    "colab": {
      "name": "100+Exercises_Estefania.ipynb",
      "provenance": [],
      "collapsed_sections": [],
      "authorship_tag": "ABX9TyPC6Ani7aBmHdruAi2hIdPV",
      "include_colab_link": true
    },
    "kernelspec": {
      "name": "python3",
      "display_name": "Python 3"
    },
    "language_info": {
      "name": "python"
    }
  },
  "cells": [
    {
      "cell_type": "markdown",
      "metadata": {
        "id": "view-in-github",
        "colab_type": "text"
      },
      "source": [
        "<a href=\"https://colab.research.google.com/github/mohankumar7/test-colab/blob/main/100%2BExercises_Estefania.ipynb\" target=\"_parent\"><img src=\"https://colab.research.google.com/assets/colab-badge.svg\" alt=\"Open In Colab\"/></a>"
      ]
    },
    {
      "cell_type": "code",
      "metadata": {
        "colab": {
          "base_uri": "https://localhost:8080/"
        },
        "id": "HZ8fCEK2mwQ5",
        "outputId": "e4e86f22-b0b4-4971-98ca-e4de9421db9d"
      },
      "source": [
        "print(len(\"\"))\n",
        "print(len(\"H\"))\n",
        "print(len(\"Hello\"))\n",
        "print(len(\"Amazing\"))"
      ],
      "execution_count": 2,
      "outputs": [
        {
          "output_type": "stream",
          "text": [
            "0\n",
            "1\n",
            "5\n",
            "7\n"
          ],
          "name": "stdout"
        }
      ]
    },
    {
      "cell_type": "code",
      "metadata": {
        "colab": {
          "base_uri": "https://localhost:8080/"
        },
        "id": "2Az9UwNYm6lQ",
        "outputId": "e2c3e17d-b356-405e-ea20-5e252b552ab5"
      },
      "source": [
        "s = \"Hello\"\n",
        "i = 2\n",
        "\n",
        "if len(s) == \"\":\n",
        " print('Empty string')\n",
        "elif i < len(s):\n",
        " print(s[i]) \n",
        "else:\n",
        "  print('i is out of range') "
      ],
      "execution_count": 25,
      "outputs": [
        {
          "output_type": "stream",
          "text": [
            "l\n"
          ],
          "name": "stdout"
        }
      ]
    },
    {
      "cell_type": "code",
      "metadata": {
        "colab": {
          "base_uri": "https://localhost:8080/"
        },
        "id": "p6ipyFX9pRCT",
        "outputId": "2e289810-ad3b-4a7f-b15a-f0ca621cb129"
      },
      "source": [
        "s= 'I am watching a movie'\n",
        "i=2\n",
        "z=4\n",
        "\n",
        "if i == 0:\n",
        "  print('I is an empty string')\n",
        "elif i < len(s):\n",
        "  print(s[i:z])\n",
        "else:\n",
        "  print('I is out of range')    "
      ],
      "execution_count": 15,
      "outputs": [
        {
          "output_type": "stream",
          "text": [
            "am\n"
          ],
          "name": "stdout"
        }
      ]
    },
    {
      "cell_type": "code",
      "metadata": {
        "colab": {
          "base_uri": "https://localhost:8080/"
        },
        "id": "qH3f7RY0qJZJ",
        "outputId": "f0ff91c9-8ab5-46fc-970a-9fc2f7fec6c7"
      },
      "source": [
        "s =\"Hello There!!\"\n",
        "i = 0\n",
        "\n",
        "if not s:\n",
        "  print(\"Empty string\")\n",
        "elif i < len(s):\n",
        " print(s[i])\n",
        "else:\n",
        "  print(\"I is out of range\")"
      ],
      "execution_count": 31,
      "outputs": [
        {
          "output_type": "stream",
          "text": [
            "H\n"
          ],
          "name": "stdout"
        }
      ]
    },
    {
      "cell_type": "code",
      "metadata": {
        "colab": {
          "base_uri": "https://localhost:8080/"
        },
        "id": "oeG35e9IsKn7",
        "outputId": "503ba8d8-cf17-4478-d6f1-12dd0b660ca3"
      },
      "source": [
        "s =\"HELLO\"\n",
        "print(s[::-1])\n",
        "\n",
        "p = \"PYTHON\"\n",
        "print(p[::-1])\n",
        "\n",
        "o =\"OWL\"\n",
        "print(o[::-1])\n",
        "\n",
        "##Option 2\n",
        "\n",
        "z = \"Zebra\"\n",
        "reveresed_Word = z[::-1]\n",
        "print(reveresed_Word)\n",
        "\n",
        "##Option 3\n",
        "\n",
        "L = \"LION\"\n",
        "rev_word = \"\".join(reversed(L))\n",
        "print(rev_word)"
      ],
      "execution_count": 39,
      "outputs": [
        {
          "output_type": "stream",
          "text": [
            "OLLEH\n",
            "NOHTYP\n",
            "LWO\n",
            "arbeZ\n",
            "NOIL\n"
          ],
          "name": "stdout"
        }
      ]
    },
    {
      "cell_type": "code",
      "metadata": {
        "id": "kxWu6y_LtC9h"
      },
      "source": [
        ""
      ],
      "execution_count": null,
      "outputs": []
    }
  ]
}