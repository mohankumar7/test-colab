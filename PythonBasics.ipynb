{
  "nbformat": 4,
  "nbformat_minor": 0,
  "metadata": {
    "colab": {
      "name": "PythonBasics.ipynb",
      "provenance": [],
      "authorship_tag": "ABX9TyMrpS2uEXt8Aj7RRpvGitbx",
      "include_colab_link": true
    },
    "kernelspec": {
      "name": "python3",
      "display_name": "Python 3"
    },
    "language_info": {
      "name": "python"
    }
  },
  "cells": [
    {
      "cell_type": "markdown",
      "metadata": {
        "id": "view-in-github",
        "colab_type": "text"
      },
      "source": [
        "<a href=\"https://colab.research.google.com/github/mohankumar7/test-colab/blob/main/PythonBasics.ipynb\" target=\"_parent\"><img src=\"https://colab.research.google.com/assets/colab-badge.svg\" alt=\"Open In Colab\"/></a>"
      ]
    },
    {
      "cell_type": "code",
      "metadata": {
        "colab": {
          "base_uri": "https://localhost:8080/"
        },
        "id": "LdoGAz_L7ydg",
        "outputId": "83c9c864-b23a-47ce-c515-77f60e2f63e8"
      },
      "source": [
        "print(\"Hello World!!!\")"
      ],
      "execution_count": null,
      "outputs": [
        {
          "output_type": "stream",
          "text": [
            "Hello World!!!\n"
          ],
          "name": "stdout"
        }
      ]
    },
    {
      "cell_type": "code",
      "metadata": {
        "id": "zE0u0t-d79u3"
      },
      "source": [
        ""
      ],
      "execution_count": null,
      "outputs": []
    },
    {
      "cell_type": "markdown",
      "metadata": {
        "id": "NzF4x6dN8W53"
      },
      "source": [
        "# variables"
      ]
    },
    {
      "cell_type": "code",
      "metadata": {
        "colab": {
          "base_uri": "https://localhost:8080/"
        },
        "id": "BeE17Fau8ZwM",
        "outputId": "2ce6b3ab-aa88-49d5-84c1-bc2a5aef03f4"
      },
      "source": [
        "num = 5\n",
        "print(5)"
      ],
      "execution_count": null,
      "outputs": [
        {
          "output_type": "stream",
          "text": [
            "5\n"
          ],
          "name": "stdout"
        }
      ]
    },
    {
      "cell_type": "code",
      "metadata": {
        "colab": {
          "base_uri": "https://localhost:8080/"
        },
        "id": "_DW1fcoK8kqW",
        "outputId": "e87919ed-cafe-4459-9bf7-f655d46e5e91"
      },
      "source": [
        "age = 24\n",
        "print(age)"
      ],
      "execution_count": null,
      "outputs": [
        {
          "output_type": "stream",
          "text": [
            "24\n"
          ],
          "name": "stdout"
        }
      ]
    },
    {
      "cell_type": "code",
      "metadata": {
        "colab": {
          "base_uri": "https://localhost:8080/"
        },
        "id": "U7A_yM8e8vow",
        "outputId": "dea303ee-1bb7-4699-827b-9a8e771ab215"
      },
      "source": [
        "type(5)"
      ],
      "execution_count": null,
      "outputs": [
        {
          "output_type": "execute_result",
          "data": {
            "text/plain": [
              "int"
            ]
          },
          "metadata": {
            "tags": []
          },
          "execution_count": 4
        }
      ]
    },
    {
      "cell_type": "code",
      "metadata": {
        "colab": {
          "base_uri": "https://localhost:8080/"
        },
        "id": "QO5tG0Pb9aBC",
        "outputId": "9d556fc5-b06b-49bd-f24c-2b6731401834"
      },
      "source": [
        "type(True)"
      ],
      "execution_count": null,
      "outputs": [
        {
          "output_type": "execute_result",
          "data": {
            "text/plain": [
              "bool"
            ]
          },
          "metadata": {
            "tags": []
          },
          "execution_count": 6
        }
      ]
    },
    {
      "cell_type": "code",
      "metadata": {
        "colab": {
          "base_uri": "https://localhost:8080/"
        },
        "id": "Y2I3dDL69buE",
        "outputId": "c41dd393-1593-49b4-e4d3-364a139f23f7"
      },
      "source": [
        "type(2.30)"
      ],
      "execution_count": null,
      "outputs": [
        {
          "output_type": "execute_result",
          "data": {
            "text/plain": [
              "float"
            ]
          },
          "metadata": {
            "tags": []
          },
          "execution_count": 7
        }
      ]
    },
    {
      "cell_type": "code",
      "metadata": {
        "colab": {
          "base_uri": "https://localhost:8080/"
        },
        "id": "_16kKPYI9gDU",
        "outputId": "079e2313-4664-42ae-d782-8cb10a2b5885"
      },
      "source": [
        "type(\"abc\")"
      ],
      "execution_count": null,
      "outputs": [
        {
          "output_type": "execute_result",
          "data": {
            "text/plain": [
              "str"
            ]
          },
          "metadata": {
            "tags": []
          },
          "execution_count": 10
        }
      ]
    },
    {
      "cell_type": "code",
      "metadata": {
        "colab": {
          "base_uri": "https://localhost:8080/"
        },
        "id": "aA45tvbi9hb-",
        "outputId": "2b3850df-e71f-4f9f-eff9-2ebc8a7848a3"
      },
      "source": [
        "type(False)"
      ],
      "execution_count": null,
      "outputs": [
        {
          "output_type": "execute_result",
          "data": {
            "text/plain": [
              "bool"
            ]
          },
          "metadata": {
            "tags": []
          },
          "execution_count": 11
        }
      ]
    },
    {
      "cell_type": "code",
      "metadata": {
        "colab": {
          "base_uri": "https://localhost:8080/"
        },
        "id": "foEkdK4e98WO",
        "outputId": "8bd8f24e-af36-44ff-ab38-375f059c2883"
      },
      "source": [
        "help()"
      ],
      "execution_count": null,
      "outputs": [
        {
          "output_type": "stream",
          "text": [
            "\n",
            "You are now leaving help and returning to the Python interpreter.\n",
            "If you want to ask for help on a particular object directly from the\n",
            "interpreter, you can type \"help(object)\".  Executing \"help('string')\"\n",
            "has the same effect as typing a particular string at the help> prompt.\n"
          ],
          "name": "stdout"
        }
      ]
    },
    {
      "cell_type": "code",
      "metadata": {
        "colab": {
          "base_uri": "https://localhost:8080/"
        },
        "id": "GxbMix5i-RWT",
        "outputId": "3214088f-519e-41c4-ebed-92ad1a1c35c8"
      },
      "source": [
        "print(\"Hello There--,,.;'''!!!, I'm here\")"
      ],
      "execution_count": null,
      "outputs": [
        {
          "output_type": "stream",
          "text": [
            "Hello There--,,.;'''!!!, I'm here\n"
          ],
          "name": "stdout"
        }
      ]
    },
    {
      "cell_type": "code",
      "metadata": {
        "id": "mKB-YcSN-kPG"
      },
      "source": [
        ""
      ],
      "execution_count": null,
      "outputs": []
    },
    {
      "cell_type": "markdown",
      "metadata": {
        "id": "4TfQN16qhTXv"
      },
      "source": [
        "# **Strings**"
      ]
    },
    {
      "cell_type": "code",
      "metadata": {
        "id": "WSTVTtJihcau",
        "colab": {
          "base_uri": "https://localhost:8080/"
        },
        "outputId": "0953c0f3-79bf-4dda-fcc6-9e4af3e05de8"
      },
      "source": [
        "len(\"Hello\")"
      ],
      "execution_count": null,
      "outputs": [
        {
          "output_type": "execute_result",
          "data": {
            "text/plain": [
              "5"
            ]
          },
          "metadata": {
            "tags": []
          },
          "execution_count": 1
        }
      ]
    },
    {
      "cell_type": "code",
      "metadata": {
        "id": "bnIo7QGLhepp",
        "colab": {
          "base_uri": "https://localhost:8080/"
        },
        "outputId": "1d5e8389-059f-45b6-9a79-6ca1a4932b97"
      },
      "source": [
        "len(\"\")"
      ],
      "execution_count": null,
      "outputs": [
        {
          "output_type": "execute_result",
          "data": {
            "text/plain": [
              "0"
            ]
          },
          "metadata": {
            "tags": []
          },
          "execution_count": 2
        }
      ]
    },
    {
      "cell_type": "code",
      "metadata": {
        "id": "XAI3twWrhoGR",
        "colab": {
          "base_uri": "https://localhost:8080/"
        },
        "outputId": "6714f5f7-5fa1-4662-e5db-cb6c590116e9"
      },
      "source": [
        "\"ABCD\" < \"ABCE\""
      ],
      "execution_count": null,
      "outputs": [
        {
          "output_type": "execute_result",
          "data": {
            "text/plain": [
              "True"
            ]
          },
          "metadata": {
            "tags": []
          },
          "execution_count": 4
        }
      ]
    },
    {
      "cell_type": "code",
      "metadata": {
        "id": "I0ZB2X51htzs",
        "colab": {
          "base_uri": "https://localhost:8080/"
        },
        "outputId": "56ef01d1-3e54-4159-ec52-a798c9f78a9c"
      },
      "source": [
        "\"ABCD\" > \"ABCE\""
      ],
      "execution_count": null,
      "outputs": [
        {
          "output_type": "execute_result",
          "data": {
            "text/plain": [
              "False"
            ]
          },
          "metadata": {
            "tags": []
          },
          "execution_count": 5
        }
      ]
    },
    {
      "cell_type": "code",
      "metadata": {
        "id": "v89cbViQh0da",
        "colab": {
          "base_uri": "https://localhost:8080/"
        },
        "outputId": "e23558e9-551d-4809-82e1-ff772a4027be"
      },
      "source": [
        "\"ABCD\" == \"ABCD\""
      ],
      "execution_count": null,
      "outputs": [
        {
          "output_type": "execute_result",
          "data": {
            "text/plain": [
              "True"
            ]
          },
          "metadata": {
            "tags": []
          },
          "execution_count": 6
        }
      ]
    },
    {
      "cell_type": "code",
      "metadata": {
        "id": "0xIbksPyh3wR",
        "colab": {
          "base_uri": "https://localhost:8080/"
        },
        "outputId": "b4112157-d847-4bda-fac6-189da2d5d499"
      },
      "source": [
        "\"ABCD\" != \"ABCD\""
      ],
      "execution_count": null,
      "outputs": [
        {
          "output_type": "execute_result",
          "data": {
            "text/plain": [
              "False"
            ]
          },
          "metadata": {
            "tags": []
          },
          "execution_count": 7
        }
      ]
    },
    {
      "cell_type": "code",
      "metadata": {
        "id": "ePZRVEpOh6jb",
        "colab": {
          "base_uri": "https://localhost:8080/"
        },
        "outputId": "73bf427a-cd93-42c7-9d2f-efb0e4f2e1dd"
      },
      "source": [
        "len(\"Python\")"
      ],
      "execution_count": null,
      "outputs": [
        {
          "output_type": "execute_result",
          "data": {
            "text/plain": [
              "6"
            ]
          },
          "metadata": {
            "tags": []
          },
          "execution_count": 13
        }
      ]
    },
    {
      "cell_type": "code",
      "metadata": {
        "id": "XYrdQRqIi0sm",
        "colab": {
          "base_uri": "https://localhost:8080/",
          "height": 35
        },
        "outputId": "feee8d93-29d8-425f-c064-0d0a3d207c2f"
      },
      "source": [
        "word = \"PYTHON\"\n",
        "word[::-1]"
      ],
      "execution_count": null,
      "outputs": [
        {
          "output_type": "execute_result",
          "data": {
            "application/vnd.google.colaboratory.intrinsic+json": {
              "type": "string"
            },
            "text/plain": [
              "'NOHTYP'"
            ]
          },
          "metadata": {
            "tags": []
          },
          "execution_count": 19
        }
      ]
    },
    {
      "cell_type": "code",
      "metadata": {
        "id": "LQ1wPa3FjUyQ",
        "colab": {
          "base_uri": "https://localhost:8080/",
          "height": 35
        },
        "outputId": "03c72c33-96d6-4d98-b13c-8855878ddeb7"
      },
      "source": [
        "word = \"PYTHON\"\n",
        "word[1:4]"
      ],
      "execution_count": null,
      "outputs": [
        {
          "output_type": "execute_result",
          "data": {
            "application/vnd.google.colaboratory.intrinsic+json": {
              "type": "string"
            },
            "text/plain": [
              "'YTH'"
            ]
          },
          "metadata": {
            "tags": []
          },
          "execution_count": 3
        }
      ]
    },
    {
      "cell_type": "code",
      "metadata": {
        "colab": {
          "base_uri": "https://localhost:8080/",
          "height": 35
        },
        "id": "b0VKjZeRR74d",
        "outputId": "ef51d827-5634-4293-a258-0b24c6445e6c"
      },
      "source": [
        "word = \"PYTHON\"\n",
        "word[1:]"
      ],
      "execution_count": null,
      "outputs": [
        {
          "output_type": "execute_result",
          "data": {
            "application/vnd.google.colaboratory.intrinsic+json": {
              "type": "string"
            },
            "text/plain": [
              "'YTHON'"
            ]
          },
          "metadata": {
            "tags": []
          },
          "execution_count": 7
        }
      ]
    },
    {
      "cell_type": "code",
      "metadata": {
        "colab": {
          "base_uri": "https://localhost:8080/",
          "height": 35
        },
        "id": "znME7uouSR5y",
        "outputId": "5fe3f817-1cb2-4bd9-8a2d-36126f0445af"
      },
      "source": [
        "word = \"PYTHON\"\n",
        "word[:4]"
      ],
      "execution_count": null,
      "outputs": [
        {
          "output_type": "execute_result",
          "data": {
            "application/vnd.google.colaboratory.intrinsic+json": {
              "type": "string"
            },
            "text/plain": [
              "'PYTH'"
            ]
          },
          "metadata": {
            "tags": []
          },
          "execution_count": 8
        }
      ]
    },
    {
      "cell_type": "code",
      "metadata": {
        "colab": {
          "base_uri": "https://localhost:8080/",
          "height": 35
        },
        "id": "V89rlnkUSgEE",
        "outputId": "3d4df415-f32f-4c62-98ab-b52e82048183"
      },
      "source": [
        "motivation = \"I'm Learning Python\"\n",
        "motivation[100:]\n",
        "motivation[:100]"
      ],
      "execution_count": null,
      "outputs": [
        {
          "output_type": "execute_result",
          "data": {
            "application/vnd.google.colaboratory.intrinsic+json": {
              "type": "string"
            },
            "text/plain": [
              "\"I'm Learning Python\""
            ]
          },
          "metadata": {
            "tags": []
          },
          "execution_count": 10
        }
      ]
    },
    {
      "cell_type": "code",
      "metadata": {
        "colab": {
          "base_uri": "https://localhost:8080/"
        },
        "id": "pV-X03PMSu_M",
        "outputId": "c4cc3f58-96d1-4b11-fd74-13dedd4549fb"
      },
      "source": [
        "language = \"english\"\n",
        "str1 = language.capitalize()\n",
        "print(str1)\n",
        "str2 = language.lower()\n",
        "print(str2)\n",
        "str3 = language.upper()\n",
        "print(str3)\n",
        "is_lower = language.islower()\n",
        "print(is_lower)\n",
        "is_upper = language.isupper()\n",
        "print(is_upper)"
      ],
      "execution_count": null,
      "outputs": [
        {
          "output_type": "stream",
          "text": [
            "English\n",
            "english\n",
            "ENGLISH\n",
            "True\n",
            "False\n"
          ],
          "name": "stdout"
        }
      ]
    },
    {
      "cell_type": "code",
      "metadata": {
        "id": "ySXyfPIxXSdW"
      },
      "source": [
        "  "
      ],
      "execution_count": null,
      "outputs": []
    },
    {
      "cell_type": "markdown",
      "metadata": {
        "id": "yiL5GtNbeKzE"
      },
      "source": [
        "# LIST"
      ]
    },
    {
      "cell_type": "code",
      "metadata": {
        "colab": {
          "base_uri": "https://localhost:8080/"
        },
        "id": "Dy2tSzQ5eNJV",
        "outputId": "6ea3f94d-641f-46eb-a756-a55c9b0499a9"
      },
      "source": [
        "a = [1,2,3]\n",
        "length =  len(a)\n",
        "length"
      ],
      "execution_count": null,
      "outputs": [
        {
          "output_type": "execute_result",
          "data": {
            "text/plain": [
              "3"
            ]
          },
          "metadata": {
            "tags": []
          },
          "execution_count": 20
        }
      ]
    },
    {
      "cell_type": "code",
      "metadata": {
        "colab": {
          "base_uri": "https://localhost:8080/"
        },
        "id": "ulM-J4VGeTvc",
        "outputId": "d5298bce-1619-485a-da4a-696690ada192"
      },
      "source": [
        "scores = [67, 89, 23, 56, 23, 67, 100, 87]\n",
        "\n",
        "# Write your code below\n",
        "scores.append(45)\n",
        "scores.insert(4,56)\n",
        "scores"
      ],
      "execution_count": null,
      "outputs": [
        {
          "output_type": "execute_result",
          "data": {
            "text/plain": [
              "[67, 89, 23, 56, 56, 23, 67, 100, 87, 45]"
            ]
          },
          "metadata": {
            "tags": []
          },
          "execution_count": 24
        }
      ]
    },
    {
      "cell_type": "code",
      "metadata": {
        "colab": {
          "base_uri": "https://localhost:8080/"
        },
        "id": "t0x8JR9Xf-dK",
        "outputId": "531646a5-f2bb-46e9-daf8-1838a1edbc9c"
      },
      "source": [
        "scores = [67, 89, 23, 56, 23, 67, 100, 87]\n",
        "\n",
        "scores.remove(89)\n",
        "scores"
      ],
      "execution_count": null,
      "outputs": [
        {
          "output_type": "execute_result",
          "data": {
            "text/plain": [
              "[67, 23, 56, 23, 67, 100, 87]"
            ]
          },
          "metadata": {
            "tags": []
          },
          "execution_count": 26
        }
      ]
    },
    {
      "cell_type": "code",
      "metadata": {
        "colab": {
          "base_uri": "https://localhost:8080/"
        },
        "id": "l__o2f5cgmpl",
        "outputId": "4bff0ed3-d699-4a5c-b6a5-03268c59e7eb"
      },
      "source": [
        "countries = [\"USA\", \"Uruguay\", \"England\", \"India\", \"Italy\"]\n",
        "\n",
        "# Write your code below\n",
        "is_spain = \"Spain\" in countries\n",
        "is_usa = \"USA\" in countries\n",
        "index_italy = countries.index(\"Italy\")\n",
        "index_india = countries.index(\"India\")\n",
        "countries"
      ],
      "execution_count": null,
      "outputs": [
        {
          "output_type": "execute_result",
          "data": {
            "text/plain": [
              "['USA', 'Uruguay', 'England', 'India', 'Italy']"
            ]
          },
          "metadata": {
            "tags": []
          },
          "execution_count": 27
        }
      ]
    },
    {
      "cell_type": "code",
      "metadata": {
        "id": "5JvxxFk3jarS"
      },
      "source": [
        "player_coordinates = [34, 67, 23]\n",
        "\n",
        "# Write your code below Updating List\n",
        "player_coordinates[0] = 45\n",
        "player_coordinates[1] = 47\n",
        "player_coordinates[2] = 70"
      ],
      "execution_count": null,
      "outputs": []
    },
    {
      "cell_type": "code",
      "metadata": {
        "id": "0zcDDJw9kzyu"
      },
      "source": [
        "heights = [130, 125, 128, 129, 150, 136, 135, 155, 150]\n",
        "\n",
        "# Write your code below LIST Slicing\n",
        "slice1 = heights[3:8]\n",
        "slice2 = heights[::2]\n",
        "slice3 = heights[4:]\n",
        "slice4 = heights[4:9:2]"
      ],
      "execution_count": null,
      "outputs": []
    },
    {
      "cell_type": "code",
      "metadata": {
        "id": "YV1K12FBk0JW"
      },
      "source": [
        ""
      ],
      "execution_count": null,
      "outputs": []
    },
    {
      "cell_type": "markdown",
      "metadata": {
        "id": "Sx32Sgr9gD_m"
      },
      "source": [
        "# Conditions & Branching"
      ]
    },
    {
      "cell_type": "code",
      "metadata": {
        "id": "4rczGpqegIVM",
        "outputId": "39e2a64a-3952-4e2d-b8b8-eee89d3d15d5",
        "colab": {
          "base_uri": "https://localhost:8080/"
        }
      },
      "source": [
        "num = 6\n",
        "if num > 4:\n",
        "  print(\"python\")  "
      ],
      "execution_count": 1,
      "outputs": [
        {
          "output_type": "stream",
          "text": [
            "python\n"
          ],
          "name": "stdout"
        }
      ]
    },
    {
      "cell_type": "code",
      "metadata": {
        "id": "kK03Kc-MgUxn",
        "outputId": "08864700-755f-4368-be95-da47e2243c7a",
        "colab": {
          "base_uri": "https://localhost:8080/"
        }
      },
      "source": [
        "num = 6\n",
        "if num > 4:\n",
        "  print(\"Hello\")\n",
        "else:\n",
        "  print(\"Bye\")  "
      ],
      "execution_count": 2,
      "outputs": [
        {
          "output_type": "stream",
          "text": [
            "Hello\n"
          ],
          "name": "stdout"
        }
      ]
    },
    {
      "cell_type": "code",
      "metadata": {
        "id": "O3xPcQFSiV5a",
        "outputId": "a91e2876-4e6f-4d23-fa27-3d5cdac4ff7e",
        "colab": {
          "base_uri": "https://localhost:8080/"
        }
      },
      "source": [
        "num_credits = 130\n",
        "\n",
        "    # Write your code below\n",
        "if num_credits >= 120:\n",
        "    print(\"Congratulations!\")\n",
        "else:\n",
        "    print(\"Sorry, you still need to take a few courses.\")"
      ],
      "execution_count": 6,
      "outputs": [
        {
          "output_type": "stream",
          "text": [
            "Congratulations!\n"
          ],
          "name": "stdout"
        }
      ]
    },
    {
      "cell_type": "code",
      "metadata": {
        "id": "qmXpjCL8jAtF",
        "outputId": "3be8044e-40c3-4162-cd44-48aa2347aca6",
        "colab": {
          "base_uri": "https://localhost:8080/"
        }
      },
      "source": [
        "num = 6\n",
        "if num % 2 == 0:\n",
        "  print(\"Even\")\n",
        "elif num % 3 == 0:\n",
        "  print(\"Divisible by 3\")\n",
        "else:\n",
        "  print(\"Neither\")  "
      ],
      "execution_count": 7,
      "outputs": [
        {
          "output_type": "stream",
          "text": [
            "Even\n"
          ],
          "name": "stdout"
        }
      ]
    },
    {
      "cell_type": "code",
      "metadata": {
        "id": "rgAZP2Zhj9lg",
        "outputId": "8642b7f7-e05f-449c-a401-37fb587a5194",
        "colab": {
          "base_uri": "https://localhost:8080/"
        }
      },
      "source": [
        "score = 96\n",
        " \n",
        "if score > 93:\n",
        "\tgrade = \"A\"\n",
        "elif score > 83:\n",
        "\tgrade = \"B\"\n",
        "elif score > 73:\n",
        "\tgrade = \"C\"\n",
        "elif score > 63:\n",
        "\tgrade = \"D\"\n",
        "else:\n",
        "\tgrade = \"F\"\n",
        "print(score)"
      ],
      "execution_count": 10,
      "outputs": [
        {
          "output_type": "stream",
          "text": [
            "96\n"
          ],
          "name": "stdout"
        }
      ]
    },
    {
      "cell_type": "code",
      "metadata": {
        "id": "j8-QbzrVkclF"
      },
      "source": [
        "def check_point(x, y):\n",
        "    # Write your code below\n",
        "\tif x == 0 and y == 0:\n",
        "\t\tprint(\"This point is the origin (0, 0)\")\n",
        "\telif x > 0 and y > 0:\n",
        "\t\tprint(\"First Quadrant\")\n",
        "\telif x < 0 and y > 0:\n",
        "\t\tprint(\"Second Quadrant\")\n",
        "\telif x < 0 and y < 0:\n",
        "\t\tprint(\"Third Quadrant\")\n",
        "\telif x > 0 and y < 0:\n",
        "\t\tprint(\"Fourth Quadrant\")"
      ],
      "execution_count": 11,
      "outputs": []
    },
    {
      "cell_type": "code",
      "metadata": {
        "id": "2ga2NYevk3-4"
      },
      "source": [
        ""
      ],
      "execution_count": null,
      "outputs": []
    },
    {
      "cell_type": "markdown",
      "metadata": {
        "id": "lXRwxKCpluxm"
      },
      "source": [
        "# Rock Paper Scissors Project"
      ]
    },
    {
      "cell_type": "code",
      "metadata": {
        "id": "14QyE57blzpX",
        "outputId": "7319cf55-043f-427e-b1bb-b0629941f2d7",
        "colab": {
          "base_uri": "https://localhost:8080/"
        }
      },
      "source": [
        "import random\n",
        "\n",
        "options = (\"rock\", \"papers\", \"scissors\")\n",
        "\n",
        "print(\"======Welcome to the Game======\")\n",
        "\n",
        "computer = options[random.randint(0,2)]\n",
        "\n",
        "player = input(\"Please enter Rock, Paper or Scissors below:\\n\")\n",
        "\n",
        "if player.lower() == computer:\n",
        "  print(\"Its a tie! Try again\")\n",
        "elif player.lower() == \"rock\":\n",
        "  if computer == \"paper\":\n",
        "     print(\"You loose!, your oponnent chose 'Paper'\")\n",
        "  else:\n",
        "    print(\"You win! Your oponnent chose 'Scissors'\")   \n",
        "elif player.lower() == \"paper\":\n",
        "   if computer ==\"scissors\":\n",
        "     print(\"You win! Your oponnent chose 'Scissors'\")\n",
        "   else:\n",
        "     print(\"You win! Your oponnent chose 'Rock'\")\n",
        "elif player.lower() ==\"scissors\":\n",
        "    if computer == \"rock\":\n",
        "     print(\"You loose! Your oponnent chose 'Rock'\")\n",
        "    else:\n",
        "     print(\"You win! Your oponnent chose 'Paper'\")     \n",
        "else:\n",
        "     print(\"Please enter a valid option\")                 \n"
      ],
      "execution_count": 28,
      "outputs": [
        {
          "output_type": "stream",
          "text": [
            "======Welcome to the Game======\n",
            "Please enter Rock, Paper or Scissors below:\n",
            "Rock\n",
            "You win! Your oponnent chose 'Scissors'\n"
          ],
          "name": "stdout"
        }
      ]
    },
    {
      "cell_type": "code",
      "metadata": {
        "id": "CQyMdgAqoidV"
      },
      "source": [
        ""
      ],
      "execution_count": 27,
      "outputs": []
    }
  ]
}