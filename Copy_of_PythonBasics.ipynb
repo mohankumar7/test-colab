{
  "nbformat": 4,
  "nbformat_minor": 0,
  "metadata": {
    "colab": {
      "name": "Copy of PythonBasics.ipynb",
      "provenance": [],
      "authorship_tag": "ABX9TyNpwMVOxoZmYRb95A3YTO9g",
      "include_colab_link": true
    },
    "kernelspec": {
      "name": "python3",
      "display_name": "Python 3"
    },
    "language_info": {
      "name": "python"
    }
  },
  "cells": [
    {
      "cell_type": "markdown",
      "metadata": {
        "id": "view-in-github",
        "colab_type": "text"
      },
      "source": [
        "<a href=\"https://colab.research.google.com/github/mohankumar7/test-colab/blob/main/Copy_of_PythonBasics.ipynb\" target=\"_parent\"><img src=\"https://colab.research.google.com/assets/colab-badge.svg\" alt=\"Open In Colab\"/></a>"
      ]
    },
    {
      "cell_type": "code",
      "metadata": {
        "colab": {
          "base_uri": "https://localhost:8080/"
        },
        "id": "LdoGAz_L7ydg",
        "outputId": "83c9c864-b23a-47ce-c515-77f60e2f63e8"
      },
      "source": [
        "print(\"Hello World!!!\")"
      ],
      "execution_count": null,
      "outputs": [
        {
          "output_type": "stream",
          "text": [
            "Hello World!!!\n"
          ],
          "name": "stdout"
        }
      ]
    },
    {
      "cell_type": "code",
      "metadata": {
        "id": "zE0u0t-d79u3"
      },
      "source": [
        ""
      ],
      "execution_count": null,
      "outputs": []
    },
    {
      "cell_type": "markdown",
      "metadata": {
        "id": "NzF4x6dN8W53"
      },
      "source": [
        "# variables"
      ]
    },
    {
      "cell_type": "code",
      "metadata": {
        "colab": {
          "base_uri": "https://localhost:8080/"
        },
        "id": "BeE17Fau8ZwM",
        "outputId": "2ce6b3ab-aa88-49d5-84c1-bc2a5aef03f4"
      },
      "source": [
        "num = 5\n",
        "print(5)"
      ],
      "execution_count": null,
      "outputs": [
        {
          "output_type": "stream",
          "text": [
            "5\n"
          ],
          "name": "stdout"
        }
      ]
    },
    {
      "cell_type": "code",
      "metadata": {
        "colab": {
          "base_uri": "https://localhost:8080/"
        },
        "id": "_DW1fcoK8kqW",
        "outputId": "e87919ed-cafe-4459-9bf7-f655d46e5e91"
      },
      "source": [
        "age = 24\n",
        "print(age)"
      ],
      "execution_count": null,
      "outputs": [
        {
          "output_type": "stream",
          "text": [
            "24\n"
          ],
          "name": "stdout"
        }
      ]
    },
    {
      "cell_type": "code",
      "metadata": {
        "colab": {
          "base_uri": "https://localhost:8080/"
        },
        "id": "U7A_yM8e8vow",
        "outputId": "dea303ee-1bb7-4699-827b-9a8e771ab215"
      },
      "source": [
        "type(5)"
      ],
      "execution_count": null,
      "outputs": [
        {
          "output_type": "execute_result",
          "data": {
            "text/plain": [
              "int"
            ]
          },
          "metadata": {
            "tags": []
          },
          "execution_count": 4
        }
      ]
    },
    {
      "cell_type": "code",
      "metadata": {
        "colab": {
          "base_uri": "https://localhost:8080/"
        },
        "id": "QO5tG0Pb9aBC",
        "outputId": "9d556fc5-b06b-49bd-f24c-2b6731401834"
      },
      "source": [
        "type(True)"
      ],
      "execution_count": null,
      "outputs": [
        {
          "output_type": "execute_result",
          "data": {
            "text/plain": [
              "bool"
            ]
          },
          "metadata": {
            "tags": []
          },
          "execution_count": 6
        }
      ]
    },
    {
      "cell_type": "code",
      "metadata": {
        "colab": {
          "base_uri": "https://localhost:8080/"
        },
        "id": "Y2I3dDL69buE",
        "outputId": "c41dd393-1593-49b4-e4d3-364a139f23f7"
      },
      "source": [
        "type(2.30)"
      ],
      "execution_count": null,
      "outputs": [
        {
          "output_type": "execute_result",
          "data": {
            "text/plain": [
              "float"
            ]
          },
          "metadata": {
            "tags": []
          },
          "execution_count": 7
        }
      ]
    },
    {
      "cell_type": "code",
      "metadata": {
        "colab": {
          "base_uri": "https://localhost:8080/"
        },
        "id": "_16kKPYI9gDU",
        "outputId": "079e2313-4664-42ae-d782-8cb10a2b5885"
      },
      "source": [
        "type(\"abc\")"
      ],
      "execution_count": null,
      "outputs": [
        {
          "output_type": "execute_result",
          "data": {
            "text/plain": [
              "str"
            ]
          },
          "metadata": {
            "tags": []
          },
          "execution_count": 10
        }
      ]
    },
    {
      "cell_type": "code",
      "metadata": {
        "colab": {
          "base_uri": "https://localhost:8080/"
        },
        "id": "aA45tvbi9hb-",
        "outputId": "2b3850df-e71f-4f9f-eff9-2ebc8a7848a3"
      },
      "source": [
        "type(False)"
      ],
      "execution_count": null,
      "outputs": [
        {
          "output_type": "execute_result",
          "data": {
            "text/plain": [
              "bool"
            ]
          },
          "metadata": {
            "tags": []
          },
          "execution_count": 11
        }
      ]
    },
    {
      "cell_type": "code",
      "metadata": {
        "colab": {
          "base_uri": "https://localhost:8080/"
        },
        "id": "foEkdK4e98WO",
        "outputId": "8bd8f24e-af36-44ff-ab38-375f059c2883"
      },
      "source": [
        "help()"
      ],
      "execution_count": null,
      "outputs": [
        {
          "output_type": "stream",
          "text": [
            "\n",
            "You are now leaving help and returning to the Python interpreter.\n",
            "If you want to ask for help on a particular object directly from the\n",
            "interpreter, you can type \"help(object)\".  Executing \"help('string')\"\n",
            "has the same effect as typing a particular string at the help> prompt.\n"
          ],
          "name": "stdout"
        }
      ]
    },
    {
      "cell_type": "code",
      "metadata": {
        "colab": {
          "base_uri": "https://localhost:8080/"
        },
        "id": "GxbMix5i-RWT",
        "outputId": "3214088f-519e-41c4-ebed-92ad1a1c35c8"
      },
      "source": [
        "print(\"Hello There--,,.;'''!!!, I'm here\")"
      ],
      "execution_count": null,
      "outputs": [
        {
          "output_type": "stream",
          "text": [
            "Hello There--,,.;'''!!!, I'm here\n"
          ],
          "name": "stdout"
        }
      ]
    },
    {
      "cell_type": "code",
      "metadata": {
        "id": "mKB-YcSN-kPG"
      },
      "source": [
        ""
      ],
      "execution_count": null,
      "outputs": []
    },
    {
      "cell_type": "markdown",
      "metadata": {
        "id": "4TfQN16qhTXv"
      },
      "source": [
        "# **Strings**"
      ]
    },
    {
      "cell_type": "code",
      "metadata": {
        "id": "WSTVTtJihcau",
        "colab": {
          "base_uri": "https://localhost:8080/"
        },
        "outputId": "0953c0f3-79bf-4dda-fcc6-9e4af3e05de8"
      },
      "source": [
        "len(\"Hello\")"
      ],
      "execution_count": null,
      "outputs": [
        {
          "output_type": "execute_result",
          "data": {
            "text/plain": [
              "5"
            ]
          },
          "metadata": {
            "tags": []
          },
          "execution_count": 1
        }
      ]
    },
    {
      "cell_type": "code",
      "metadata": {
        "id": "bnIo7QGLhepp",
        "colab": {
          "base_uri": "https://localhost:8080/"
        },
        "outputId": "1d5e8389-059f-45b6-9a79-6ca1a4932b97"
      },
      "source": [
        "len(\"\")"
      ],
      "execution_count": null,
      "outputs": [
        {
          "output_type": "execute_result",
          "data": {
            "text/plain": [
              "0"
            ]
          },
          "metadata": {
            "tags": []
          },
          "execution_count": 2
        }
      ]
    },
    {
      "cell_type": "code",
      "metadata": {
        "id": "XAI3twWrhoGR",
        "colab": {
          "base_uri": "https://localhost:8080/"
        },
        "outputId": "6714f5f7-5fa1-4662-e5db-cb6c590116e9"
      },
      "source": [
        "\"ABCD\" < \"ABCE\""
      ],
      "execution_count": null,
      "outputs": [
        {
          "output_type": "execute_result",
          "data": {
            "text/plain": [
              "True"
            ]
          },
          "metadata": {
            "tags": []
          },
          "execution_count": 4
        }
      ]
    },
    {
      "cell_type": "code",
      "metadata": {
        "id": "I0ZB2X51htzs",
        "colab": {
          "base_uri": "https://localhost:8080/"
        },
        "outputId": "56ef01d1-3e54-4159-ec52-a798c9f78a9c"
      },
      "source": [
        "\"ABCD\" > \"ABCE\""
      ],
      "execution_count": null,
      "outputs": [
        {
          "output_type": "execute_result",
          "data": {
            "text/plain": [
              "False"
            ]
          },
          "metadata": {
            "tags": []
          },
          "execution_count": 5
        }
      ]
    },
    {
      "cell_type": "code",
      "metadata": {
        "id": "v89cbViQh0da",
        "colab": {
          "base_uri": "https://localhost:8080/"
        },
        "outputId": "e23558e9-551d-4809-82e1-ff772a4027be"
      },
      "source": [
        "\"ABCD\" == \"ABCD\""
      ],
      "execution_count": null,
      "outputs": [
        {
          "output_type": "execute_result",
          "data": {
            "text/plain": [
              "True"
            ]
          },
          "metadata": {
            "tags": []
          },
          "execution_count": 6
        }
      ]
    },
    {
      "cell_type": "code",
      "metadata": {
        "id": "0xIbksPyh3wR",
        "colab": {
          "base_uri": "https://localhost:8080/"
        },
        "outputId": "b4112157-d847-4bda-fac6-189da2d5d499"
      },
      "source": [
        "\"ABCD\" != \"ABCD\""
      ],
      "execution_count": null,
      "outputs": [
        {
          "output_type": "execute_result",
          "data": {
            "text/plain": [
              "False"
            ]
          },
          "metadata": {
            "tags": []
          },
          "execution_count": 7
        }
      ]
    },
    {
      "cell_type": "code",
      "metadata": {
        "id": "ePZRVEpOh6jb",
        "colab": {
          "base_uri": "https://localhost:8080/"
        },
        "outputId": "73bf427a-cd93-42c7-9d2f-efb0e4f2e1dd"
      },
      "source": [
        "len(\"Python\")"
      ],
      "execution_count": null,
      "outputs": [
        {
          "output_type": "execute_result",
          "data": {
            "text/plain": [
              "6"
            ]
          },
          "metadata": {
            "tags": []
          },
          "execution_count": 13
        }
      ]
    },
    {
      "cell_type": "code",
      "metadata": {
        "id": "XYrdQRqIi0sm",
        "colab": {
          "base_uri": "https://localhost:8080/",
          "height": 35
        },
        "outputId": "feee8d93-29d8-425f-c064-0d0a3d207c2f"
      },
      "source": [
        "word = \"PYTHON\"\n",
        "word[::-1]"
      ],
      "execution_count": null,
      "outputs": [
        {
          "output_type": "execute_result",
          "data": {
            "application/vnd.google.colaboratory.intrinsic+json": {
              "type": "string"
            },
            "text/plain": [
              "'NOHTYP'"
            ]
          },
          "metadata": {
            "tags": []
          },
          "execution_count": 19
        }
      ]
    },
    {
      "cell_type": "code",
      "metadata": {
        "id": "LQ1wPa3FjUyQ",
        "colab": {
          "base_uri": "https://localhost:8080/",
          "height": 35
        },
        "outputId": "03c72c33-96d6-4d98-b13c-8855878ddeb7"
      },
      "source": [
        "word = \"PYTHON\"\n",
        "word[1:4]"
      ],
      "execution_count": null,
      "outputs": [
        {
          "output_type": "execute_result",
          "data": {
            "application/vnd.google.colaboratory.intrinsic+json": {
              "type": "string"
            },
            "text/plain": [
              "'YTH'"
            ]
          },
          "metadata": {
            "tags": []
          },
          "execution_count": 3
        }
      ]
    },
    {
      "cell_type": "code",
      "metadata": {
        "colab": {
          "base_uri": "https://localhost:8080/",
          "height": 35
        },
        "id": "b0VKjZeRR74d",
        "outputId": "ef51d827-5634-4293-a258-0b24c6445e6c"
      },
      "source": [
        "word = \"PYTHON\"\n",
        "word[1:]"
      ],
      "execution_count": null,
      "outputs": [
        {
          "output_type": "execute_result",
          "data": {
            "application/vnd.google.colaboratory.intrinsic+json": {
              "type": "string"
            },
            "text/plain": [
              "'YTHON'"
            ]
          },
          "metadata": {
            "tags": []
          },
          "execution_count": 7
        }
      ]
    },
    {
      "cell_type": "code",
      "metadata": {
        "colab": {
          "base_uri": "https://localhost:8080/",
          "height": 35
        },
        "id": "znME7uouSR5y",
        "outputId": "5fe3f817-1cb2-4bd9-8a2d-36126f0445af"
      },
      "source": [
        "word = \"PYTHON\"\n",
        "word[:4]"
      ],
      "execution_count": null,
      "outputs": [
        {
          "output_type": "execute_result",
          "data": {
            "application/vnd.google.colaboratory.intrinsic+json": {
              "type": "string"
            },
            "text/plain": [
              "'PYTH'"
            ]
          },
          "metadata": {
            "tags": []
          },
          "execution_count": 8
        }
      ]
    },
    {
      "cell_type": "code",
      "metadata": {
        "colab": {
          "base_uri": "https://localhost:8080/",
          "height": 35
        },
        "id": "V89rlnkUSgEE",
        "outputId": "3d4df415-f32f-4c62-98ab-b52e82048183"
      },
      "source": [
        "motivation = \"I'm Learning Python\"\n",
        "motivation[100:]\n",
        "motivation[:100]"
      ],
      "execution_count": null,
      "outputs": [
        {
          "output_type": "execute_result",
          "data": {
            "application/vnd.google.colaboratory.intrinsic+json": {
              "type": "string"
            },
            "text/plain": [
              "\"I'm Learning Python\""
            ]
          },
          "metadata": {
            "tags": []
          },
          "execution_count": 10
        }
      ]
    },
    {
      "cell_type": "code",
      "metadata": {
        "colab": {
          "base_uri": "https://localhost:8080/"
        },
        "id": "pV-X03PMSu_M",
        "outputId": "c4cc3f58-96d1-4b11-fd74-13dedd4549fb"
      },
      "source": [
        "language = \"english\"\n",
        "str1 = language.capitalize()\n",
        "print(str1)\n",
        "str2 = language.lower()\n",
        "print(str2)\n",
        "str3 = language.upper()\n",
        "print(str3)\n",
        "is_lower = language.islower()\n",
        "print(is_lower)\n",
        "is_upper = language.isupper()\n",
        "print(is_upper)"
      ],
      "execution_count": null,
      "outputs": [
        {
          "output_type": "stream",
          "text": [
            "English\n",
            "english\n",
            "ENGLISH\n",
            "True\n",
            "False\n"
          ],
          "name": "stdout"
        }
      ]
    },
    {
      "cell_type": "code",
      "metadata": {
        "id": "ySXyfPIxXSdW"
      },
      "source": [
        "  "
      ],
      "execution_count": null,
      "outputs": []
    },
    {
      "cell_type": "markdown",
      "metadata": {
        "id": "yiL5GtNbeKzE"
      },
      "source": [
        "# LIST"
      ]
    },
    {
      "cell_type": "code",
      "metadata": {
        "colab": {
          "base_uri": "https://localhost:8080/"
        },
        "id": "Dy2tSzQ5eNJV",
        "outputId": "6ea3f94d-641f-46eb-a756-a55c9b0499a9"
      },
      "source": [
        "a = [1,2,3]\n",
        "length =  len(a)\n",
        "length"
      ],
      "execution_count": null,
      "outputs": [
        {
          "output_type": "execute_result",
          "data": {
            "text/plain": [
              "3"
            ]
          },
          "metadata": {
            "tags": []
          },
          "execution_count": 20
        }
      ]
    },
    {
      "cell_type": "code",
      "metadata": {
        "colab": {
          "base_uri": "https://localhost:8080/"
        },
        "id": "ulM-J4VGeTvc",
        "outputId": "d5298bce-1619-485a-da4a-696690ada192"
      },
      "source": [
        "scores = [67, 89, 23, 56, 23, 67, 100, 87]\n",
        "\n",
        "# Write your code below\n",
        "scores.append(45)\n",
        "scores.insert(4,56)\n",
        "scores"
      ],
      "execution_count": null,
      "outputs": [
        {
          "output_type": "execute_result",
          "data": {
            "text/plain": [
              "[67, 89, 23, 56, 56, 23, 67, 100, 87, 45]"
            ]
          },
          "metadata": {
            "tags": []
          },
          "execution_count": 24
        }
      ]
    },
    {
      "cell_type": "code",
      "metadata": {
        "colab": {
          "base_uri": "https://localhost:8080/"
        },
        "id": "t0x8JR9Xf-dK",
        "outputId": "531646a5-f2bb-46e9-daf8-1838a1edbc9c"
      },
      "source": [
        "scores = [67, 89, 23, 56, 23, 67, 100, 87]\n",
        "\n",
        "scores.remove(89)\n",
        "scores"
      ],
      "execution_count": null,
      "outputs": [
        {
          "output_type": "execute_result",
          "data": {
            "text/plain": [
              "[67, 23, 56, 23, 67, 100, 87]"
            ]
          },
          "metadata": {
            "tags": []
          },
          "execution_count": 26
        }
      ]
    },
    {
      "cell_type": "code",
      "metadata": {
        "colab": {
          "base_uri": "https://localhost:8080/"
        },
        "id": "l__o2f5cgmpl",
        "outputId": "4bff0ed3-d699-4a5c-b6a5-03268c59e7eb"
      },
      "source": [
        "countries = [\"USA\", \"Uruguay\", \"England\", \"India\", \"Italy\"]\n",
        "\n",
        "# Write your code below\n",
        "is_spain = \"Spain\" in countries\n",
        "is_usa = \"USA\" in countries\n",
        "index_italy = countries.index(\"Italy\")\n",
        "index_india = countries.index(\"India\")\n",
        "countries"
      ],
      "execution_count": null,
      "outputs": [
        {
          "output_type": "execute_result",
          "data": {
            "text/plain": [
              "['USA', 'Uruguay', 'England', 'India', 'Italy']"
            ]
          },
          "metadata": {
            "tags": []
          },
          "execution_count": 27
        }
      ]
    },
    {
      "cell_type": "code",
      "metadata": {
        "id": "5JvxxFk3jarS"
      },
      "source": [
        "player_coordinates = [34, 67, 23]\n",
        "\n",
        "# Write your code below Updating List\n",
        "player_coordinates[0] = 45\n",
        "player_coordinates[1] = 47\n",
        "player_coordinates[2] = 70"
      ],
      "execution_count": null,
      "outputs": []
    },
    {
      "cell_type": "code",
      "metadata": {
        "id": "0zcDDJw9kzyu"
      },
      "source": [
        "heights = [130, 125, 128, 129, 150, 136, 135, 155, 150]\n",
        "\n",
        "# Write your code below LIST Slicing\n",
        "slice1 = heights[3:8]\n",
        "slice2 = heights[::2]\n",
        "slice3 = heights[4:]\n",
        "slice4 = heights[4:9:2]"
      ],
      "execution_count": null,
      "outputs": []
    },
    {
      "cell_type": "code",
      "metadata": {
        "id": "YV1K12FBk0JW"
      },
      "source": [
        ""
      ],
      "execution_count": null,
      "outputs": []
    },
    {
      "cell_type": "markdown",
      "metadata": {
        "id": "ufDiTtK7qRKT"
      },
      "source": [
        "# TUPLES"
      ]
    },
    {
      "cell_type": "code",
      "metadata": {
        "colab": {
          "base_uri": "https://localhost:8080/"
        },
        "id": "v71zZROKqT1s",
        "outputId": "906f8c8b-8481-4e2b-c34e-4a3157aa97a6"
      },
      "source": [
        "letters = (\"a\", \"b\", \"c\", \"d\", \"e\", \"f\")\n",
        "\"a\" in letters"
      ],
      "execution_count": 4,
      "outputs": [
        {
          "output_type": "execute_result",
          "data": {
            "text/plain": [
              "True"
            ]
          },
          "metadata": {
            "tags": []
          },
          "execution_count": 4
        }
      ]
    },
    {
      "cell_type": "code",
      "metadata": {
        "colab": {
          "base_uri": "https://localhost:8080/"
        },
        "id": "iQRXZMdFrBFp",
        "outputId": "4bb831ef-ab12-447d-bfac-23d34b714af6"
      },
      "source": [
        "letters = (\"a\", \"b\", \"c\", \"d\", \"e\", \"f\")\n",
        "letters.index(\"f\")"
      ],
      "execution_count": 5,
      "outputs": [
        {
          "output_type": "execute_result",
          "data": {
            "text/plain": [
              "5"
            ]
          },
          "metadata": {
            "tags": []
          },
          "execution_count": 5
        }
      ]
    },
    {
      "cell_type": "code",
      "metadata": {
        "colab": {
          "base_uri": "https://localhost:8080/"
        },
        "id": "Iz1uSrTOrZRD",
        "outputId": "5edb7f19-bc1d-4830-e014-d1d80b0a060f"
      },
      "source": [
        "nums = (1,2,3,4,4,5,6,7,8,8,8,8,9)\n",
        "nums.count(8)"
      ],
      "execution_count": 7,
      "outputs": [
        {
          "output_type": "execute_result",
          "data": {
            "text/plain": [
              "4"
            ]
          },
          "metadata": {
            "tags": []
          },
          "execution_count": 7
        }
      ]
    },
    {
      "cell_type": "code",
      "metadata": {
        "colab": {
          "base_uri": "https://localhost:8080/"
        },
        "id": "tc3TY9NwruHh",
        "outputId": "19ae5ea0-92c3-456c-bedf-13b2b285b9a2"
      },
      "source": [
        "test_answers = (\"A\", \"B\", \"A\", \"C\", \"B\", \"A\", \"A\", \"B\", \"C\", \"A\", \"B\", \"C\", \"A\", \"B\", \"A\")\n",
        "# Write your code below\n",
        "count_a = test_answers.count(\"A\")\n",
        "check_b = \"B\" in test_answers\n",
        "find_c = test_answers.index(\"C\")\n",
        "count_a\n",
        "check_b\n",
        "find_c"
      ],
      "execution_count": 10,
      "outputs": [
        {
          "output_type": "execute_result",
          "data": {
            "text/plain": [
              "3"
            ]
          },
          "metadata": {
            "tags": []
          },
          "execution_count": 10
        }
      ]
    },
    {
      "cell_type": "code",
      "metadata": {
        "colab": {
          "base_uri": "https://localhost:8080/"
        },
        "id": "XOn8NHMDsY-K",
        "outputId": "fedbdff4-b79c-405d-ccb8-5c83cd217f95"
      },
      "source": [
        "letters = (\"a\", \"b\", \"c\")\n",
        "len(letters)"
      ],
      "execution_count": 11,
      "outputs": [
        {
          "output_type": "execute_result",
          "data": {
            "text/plain": [
              "3"
            ]
          },
          "metadata": {
            "tags": []
          },
          "execution_count": 11
        }
      ]
    },
    {
      "cell_type": "code",
      "metadata": {
        "colab": {
          "base_uri": "https://localhost:8080/"
        },
        "id": "_xDyxYo3syFa",
        "outputId": "27d77e05-8f8e-4bb5-a1b1-c87c7866942b"
      },
      "source": [
        "temperature = (23, 17, 14, 28, 13, 17, 15, 18, 24, 31, 38, 16)\n",
        "length = len(temperature)\n",
        "length\n"
      ],
      "execution_count": 13,
      "outputs": [
        {
          "output_type": "execute_result",
          "data": {
            "text/plain": [
              "12"
            ]
          },
          "metadata": {
            "tags": []
          },
          "execution_count": 13
        }
      ]
    },
    {
      "cell_type": "code",
      "metadata": {
        "colab": {
          "base_uri": "https://localhost:8080/"
        },
        "id": "LvWSGwHOvaoH",
        "outputId": "86eccdd5-6741-4f8b-b8cb-af7634ab1efe"
      },
      "source": [
        "a = (1, 2, 3, 4)\n",
        "b = (5, 6, 7, 8)\n",
        "c = a + b             # Concatenate the tuples and store the new tuple in c\n",
        "c"
      ],
      "execution_count": 14,
      "outputs": [
        {
          "output_type": "execute_result",
          "data": {
            "text/plain": [
              "(1, 2, 3, 4, 5, 6, 7, 8)"
            ]
          },
          "metadata": {
            "tags": []
          },
          "execution_count": 14
        }
      ]
    },
    {
      "cell_type": "code",
      "metadata": {
        "colab": {
          "base_uri": "https://localhost:8080/"
        },
        "id": "id-NP0gevprP",
        "outputId": "7e35e2d9-fe4c-4c07-8734-4b842ba7431a"
      },
      "source": [
        "players = ([\"amy242\", 456], [\"jack342\", 567], [\"charlotte342\", 564], [\"daniel342\", 764])\n",
        "list1 = players[2]\n",
        "list1"
      ],
      "execution_count": 15,
      "outputs": [
        {
          "output_type": "execute_result",
          "data": {
            "text/plain": [
              "['charlotte342', 564]"
            ]
          },
          "metadata": {
            "tags": []
          },
          "execution_count": 15
        }
      ]
    },
    {
      "cell_type": "code",
      "metadata": {
        "id": "AZxdROBXwO8_"
      },
      "source": [
        "players = ([\"amy242\", 456], [\"jack342\", 567], [\"charlotte342\", 564], [\"daniel342\", 764])\n",
        "\n",
        "# Write your code below\n",
        "list1 = players[2]\n",
        "list2 = players[3]\n",
        "foo = players[0][0]"
      ],
      "execution_count": 16,
      "outputs": []
    },
    {
      "cell_type": "code",
      "metadata": {
        "colab": {
          "base_uri": "https://localhost:8080/"
        },
        "id": "VRgGueYewrcF",
        "outputId": "feb954ac-db81-4008-994a-1b3d209c765b"
      },
      "source": [
        "nums = (3, 6, 8, 10)\n",
        "nums[1:3]\n"
      ],
      "execution_count": 17,
      "outputs": [
        {
          "output_type": "execute_result",
          "data": {
            "text/plain": [
              "(6, 8)"
            ]
          },
          "metadata": {
            "tags": []
          },
          "execution_count": 17
        }
      ]
    },
    {
      "cell_type": "code",
      "metadata": {
        "colab": {
          "base_uri": "https://localhost:8080/"
        },
        "id": "rteC-cmiw0AP",
        "outputId": "3c2b214d-5018-46f6-ffc1-7101fa5afd84"
      },
      "source": [
        "nums = (3, 6, 8, 10, 15, 23, 27)\n",
        "nums[2:6:2]"
      ],
      "execution_count": 18,
      "outputs": [
        {
          "output_type": "execute_result",
          "data": {
            "text/plain": [
              "(8, 15)"
            ]
          },
          "metadata": {
            "tags": []
          },
          "execution_count": 18
        }
      ]
    },
    {
      "cell_type": "code",
      "metadata": {
        "id": "hu3nimfRw4g_"
      },
      "source": [
        "life_expectancy = {\n",
        "\t\"Argentina\": 77.17,\n",
        "\t\"Australia\": 83.94,\n",
        "\t\"Brazil\": 76.57,\n",
        "\t\"Germany\": 81.88,\n",
        "\t\"India\": 70.42,\n",
        "\t\"Japan\": 85.03,\n",
        "\t\"South Africa\": 64.88, \n",
        "\t\"United States of America\": 79.11,\n",
        "\t\"Uruguay\": 78.43\n",
        "}\n",
        "\n",
        "# Write your code below\n",
        "uruguay = life_expectancy[\"Uruguay\"]\n",
        "japan = life_expectancy[\"Japan\"]\n",
        "germany = life_expectancy[\"Germany\"]"
      ],
      "execution_count": 22,
      "outputs": []
    },
    {
      "cell_type": "code",
      "metadata": {
        "id": "Pr0B82zdzBIW"
      },
      "source": [
        "life_expectancy = {\n",
        "\t\"Argentina\": 77.17,\n",
        "\t\"Australia\": 83.94,\n",
        "\t\"Brazil\": 76.57,\n",
        "\t\"Germany\": 81.88,\n",
        "\t\"India\": 70.42,\n",
        "\t\"Japan\": 85.03,\n",
        "\t\"South Africa\": 64.88, \n",
        "\t\"United States of America\": 79.11,\n",
        "\t\"Uruguay\": 78.43\n",
        "}\n",
        "\n",
        "# Write your code below\n",
        "life_expectancy[\"Ireland\"] = 80.81\n",
        "life_expectancy[\"Ireland\"] = 82.81"
      ],
      "execution_count": 23,
      "outputs": []
    },
    {
      "cell_type": "code",
      "metadata": {
        "colab": {
          "base_uri": "https://localhost:8080/"
        },
        "id": "R2oU07btzHPY",
        "outputId": "068eb39d-65e6-430c-a1fb-46bfb887677d"
      },
      "source": [
        "life_expectancy = {\n",
        "\t\"Argentina\": 77.17,\n",
        "\t\"Australia\": 83.94,\n",
        "\t\"Brazil\": 76.57,\n",
        "\t\"Germany\": 81.88,\n",
        "\t\"India\": 70.42,\n",
        "\t\"Japan\": 85.03,\n",
        "\t\"South Africa\": 64.88, \n",
        "\t\"United States of America\": 79.11,\n",
        "\t\"Uruguay\": 78.43\n",
        "}\n",
        "\n",
        "# Write your code below\n",
        "del life_expectancy[\"Australia\"]\n",
        "life_expectancy\n"
      ],
      "execution_count": 25,
      "outputs": [
        {
          "output_type": "execute_result",
          "data": {
            "text/plain": [
              "{'Argentina': 77.17,\n",
              " 'Brazil': 76.57,\n",
              " 'Germany': 81.88,\n",
              " 'India': 70.42,\n",
              " 'Japan': 85.03,\n",
              " 'South Africa': 64.88,\n",
              " 'United States of America': 79.11,\n",
              " 'Uruguay': 78.43}"
            ]
          },
          "metadata": {
            "tags": []
          },
          "execution_count": 25
        }
      ]
    },
    {
      "cell_type": "code",
      "metadata": {
        "colab": {
          "base_uri": "https://localhost:8080/"
        },
        "id": "3l_GTXj40KC_",
        "outputId": "0df4bed0-be2d-4c47-9354-24b46a4ff628"
      },
      "source": [
        "scores = {\n",
        "\t\"Jack\": 764,\n",
        "\t\"Emily\": 243,\n",
        "\t\"Nora\": 1453,\n",
        "\t\"Gino\": 3422\n",
        "    }\n",
        "# Get the length of the dictionary.\n",
        "len(scores)"
      ],
      "execution_count": 26,
      "outputs": [
        {
          "output_type": "execute_result",
          "data": {
            "text/plain": [
              "4"
            ]
          },
          "metadata": {
            "tags": []
          },
          "execution_count": 26
        }
      ]
    },
    {
      "cell_type": "code",
      "metadata": {
        "id": "lk8FrwDw0S3M"
      },
      "source": [
        "life_expectancy = {\n",
        "\t\"Argentina\": 77.17,\n",
        "\t\"Australia\": 83.94,\n",
        "\t\"Brazil\": 76.57,\n",
        "\t\"Germany\": 81.88,\n",
        "\t\"India\": 70.42,\n",
        "\t\"Japan\": 85.03,\n",
        "\t\"South Africa\": 64.88, \n",
        "\t\"United States of America\": 79.11,\n",
        "\t\"Uruguay\": 78.43\n",
        "}\n",
        "\n",
        "# Write your code below\n",
        "# Write your code below\n",
        "has_brazil = \"Brazil\" in life_expectancy\n",
        "has_canada = \"Canada\" in life_expectancy\n",
        "has_japan = \"Japan\" in life_expectancy"
      ],
      "execution_count": 28,
      "outputs": []
    },
    {
      "cell_type": "code",
      "metadata": {
        "id": "aG93iKvf3nDo"
      },
      "source": [
        "verbs = {\"code\", \"send\", \"receive\", \"play\", \"improve\"}\n",
        "\n",
        "# Write your code below\n",
        "verbs.add(\"call\")\n",
        "verbs.add(\"learn\")\n",
        "verbs.add(\"discover\")\n",
        "length = len(verbs)"
      ],
      "execution_count": 29,
      "outputs": []
    },
    {
      "cell_type": "code",
      "metadata": {
        "id": "I1wpFK3J37ec"
      },
      "source": [
        "verbs = {\"code\", \"send\", \"receive\", \"play\", \"improve\"}\n",
        "\n",
        "# Write your code below\n",
        "verbs.remove(\"send\")"
      ],
      "execution_count": 30,
      "outputs": []
    },
    {
      "cell_type": "code",
      "metadata": {
        "id": "AhDv6l4p39e5"
      },
      "source": [
        "verbs = {\"code\", \"send\", \"receive\", \"play\", \"improve\"}\n",
        "\n",
        "# Write your code below\n",
        "has_play = \"play\" in verbs\n",
        "has_talk = \"talk\" in verbs\n",
        "has_swim = \"swim\" in verbs"
      ],
      "execution_count": 31,
      "outputs": []
    },
    {
      "cell_type": "code",
      "metadata": {
        "id": "pAIwVM-Z4VP1"
      },
      "source": [
        "A = {13, 6, 26, 46, 73, 86, 32, 52, 67, 7, 3}\n",
        "B = {4, 7, 3, 8, 46, 73, 69, 24, 13, 5, 99}\n",
        "\n",
        "# Write your code below\n",
        "C = A | B\n",
        "D = A & B\n",
        "E = A - B\n",
        "is_subset = A.issubset(B)\n",
        "is_superset = A.issuperset(B)"
      ],
      "execution_count": 32,
      "outputs": []
    },
    {
      "cell_type": "code",
      "metadata": {
        "id": "EEShY5xJ5SMI"
      },
      "source": [
        ""
      ],
      "execution_count": null,
      "outputs": []
    }
  ]
}